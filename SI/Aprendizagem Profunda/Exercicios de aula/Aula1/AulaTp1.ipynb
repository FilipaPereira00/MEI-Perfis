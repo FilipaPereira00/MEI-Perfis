{
  "nbformat": 4,
  "nbformat_minor": 0,
  "metadata": {
    "colab": {
      "name": "AulaTp1.ipynb",
      "provenance": [],
      "collapsed_sections": []
    },
    "kernelspec": {
      "name": "python3",
      "display_name": "Python 3"
    },
    "language_info": {
      "name": "python"
    }
  },
  "cells": [
    {
      "cell_type": "code",
      "execution_count": 2,
      "metadata": {
        "id": "A3eUWr8x2zAr"
      },
      "outputs": [],
      "source": [
        "%matplotlib inline\n",
        "import math\n",
        "import time\n",
        "import numpy as np"
      ]
    },
    {
      "cell_type": "code",
      "source": [
        "class Timer:\n",
        "    def __init__(self):\n",
        "        self.times = []\n",
        "        self.start()\n",
        "        \n",
        "    def start(self):\n",
        "        self.tik = time.time()\n",
        "        \n",
        "    def stop(self):\n",
        "        self.times.append(time.time() - self.tik)\n",
        "        return self.times[-1]"
      ],
      "metadata": {
        "id": "D5b5JnCo27Lk"
      },
      "execution_count": 3,
      "outputs": []
    },
    {
      "cell_type": "code",
      "source": [
        "timer = Timer()"
      ],
      "metadata": {
        "id": "nlu5iFqX4nyU"
      },
      "execution_count": 4,
      "outputs": []
    },
    {
      "cell_type": "markdown",
      "source": [
        "**Example With Pytorch**"
      ],
      "metadata": {
        "id": "piJb_AKB2-Q2"
      }
    },
    {
      "cell_type": "code",
      "source": [
        "!pip install d2l\n",
        "\n",
        "import torch\n",
        "from d2l import torch as d2l"
      ],
      "metadata": {
        "id": "t4lRrI9t2_Ov",
        "colab": {
          "base_uri": "https://localhost:8080/",
          "height": 1000
        },
        "outputId": "46a40d31-3f38-4495-bd7a-b3492cabfc64"
      },
      "execution_count": 6,
      "outputs": [
        {
          "output_type": "stream",
          "name": "stdout",
          "text": [
            "Collecting d2l\n",
            "  Downloading d2l-0.17.3-py3-none-any.whl (82 kB)\n",
            "\u001b[K     |████████████████████████████████| 82 kB 630 kB/s \n",
            "\u001b[?25hCollecting pandas==1.2.2\n",
            "  Downloading pandas-1.2.2-cp37-cp37m-manylinux1_x86_64.whl (9.9 MB)\n",
            "\u001b[K     |████████████████████████████████| 9.9 MB 9.6 MB/s \n",
            "\u001b[?25hCollecting requests==2.25.1\n",
            "  Downloading requests-2.25.1-py2.py3-none-any.whl (61 kB)\n",
            "\u001b[K     |████████████████████████████████| 61 kB 7.7 MB/s \n",
            "\u001b[?25hCollecting numpy==1.18.5\n",
            "  Downloading numpy-1.18.5-cp37-cp37m-manylinux1_x86_64.whl (20.1 MB)\n",
            "\u001b[K     |████████████████████████████████| 20.1 MB 1.1 MB/s \n",
            "\u001b[?25hRequirement already satisfied: jupyter==1.0.0 in /usr/local/lib/python3.7/dist-packages (from d2l) (1.0.0)\n",
            "Collecting matplotlib==3.3.3\n",
            "  Downloading matplotlib-3.3.3-cp37-cp37m-manylinux1_x86_64.whl (11.6 MB)\n",
            "\u001b[K     |████████████████████████████████| 11.6 MB 30.6 MB/s \n",
            "\u001b[?25hRequirement already satisfied: jupyter-console in /usr/local/lib/python3.7/dist-packages (from jupyter==1.0.0->d2l) (5.2.0)\n",
            "Requirement already satisfied: nbconvert in /usr/local/lib/python3.7/dist-packages (from jupyter==1.0.0->d2l) (5.6.1)\n",
            "Requirement already satisfied: notebook in /usr/local/lib/python3.7/dist-packages (from jupyter==1.0.0->d2l) (5.3.1)\n",
            "Requirement already satisfied: ipywidgets in /usr/local/lib/python3.7/dist-packages (from jupyter==1.0.0->d2l) (7.6.5)\n",
            "Requirement already satisfied: ipykernel in /usr/local/lib/python3.7/dist-packages (from jupyter==1.0.0->d2l) (4.10.1)\n",
            "Requirement already satisfied: qtconsole in /usr/local/lib/python3.7/dist-packages (from jupyter==1.0.0->d2l) (5.2.2)\n",
            "Requirement already satisfied: pillow>=6.2.0 in /usr/local/lib/python3.7/dist-packages (from matplotlib==3.3.3->d2l) (7.1.2)\n",
            "Requirement already satisfied: python-dateutil>=2.1 in /usr/local/lib/python3.7/dist-packages (from matplotlib==3.3.3->d2l) (2.8.2)\n",
            "Requirement already satisfied: cycler>=0.10 in /usr/local/lib/python3.7/dist-packages (from matplotlib==3.3.3->d2l) (0.11.0)\n",
            "Requirement already satisfied: pyparsing!=2.0.4,!=2.1.2,!=2.1.6,>=2.0.3 in /usr/local/lib/python3.7/dist-packages (from matplotlib==3.3.3->d2l) (3.0.7)\n",
            "Requirement already satisfied: kiwisolver>=1.0.1 in /usr/local/lib/python3.7/dist-packages (from matplotlib==3.3.3->d2l) (1.3.2)\n",
            "Requirement already satisfied: pytz>=2017.3 in /usr/local/lib/python3.7/dist-packages (from pandas==1.2.2->d2l) (2018.9)\n",
            "Requirement already satisfied: urllib3<1.27,>=1.21.1 in /usr/local/lib/python3.7/dist-packages (from requests==2.25.1->d2l) (1.24.3)\n",
            "Requirement already satisfied: certifi>=2017.4.17 in /usr/local/lib/python3.7/dist-packages (from requests==2.25.1->d2l) (2021.10.8)\n",
            "Requirement already satisfied: idna<3,>=2.5 in /usr/local/lib/python3.7/dist-packages (from requests==2.25.1->d2l) (2.10)\n",
            "Requirement already satisfied: chardet<5,>=3.0.2 in /usr/local/lib/python3.7/dist-packages (from requests==2.25.1->d2l) (3.0.4)\n",
            "Requirement already satisfied: six>=1.5 in /usr/local/lib/python3.7/dist-packages (from python-dateutil>=2.1->matplotlib==3.3.3->d2l) (1.15.0)\n",
            "Requirement already satisfied: ipython>=4.0.0 in /usr/local/lib/python3.7/dist-packages (from ipykernel->jupyter==1.0.0->d2l) (5.5.0)\n",
            "Requirement already satisfied: jupyter-client in /usr/local/lib/python3.7/dist-packages (from ipykernel->jupyter==1.0.0->d2l) (5.3.5)\n",
            "Requirement already satisfied: tornado>=4.0 in /usr/local/lib/python3.7/dist-packages (from ipykernel->jupyter==1.0.0->d2l) (5.1.1)\n",
            "Requirement already satisfied: traitlets>=4.1.0 in /usr/local/lib/python3.7/dist-packages (from ipykernel->jupyter==1.0.0->d2l) (5.1.1)\n",
            "Requirement already satisfied: setuptools>=18.5 in /usr/local/lib/python3.7/dist-packages (from ipython>=4.0.0->ipykernel->jupyter==1.0.0->d2l) (57.4.0)\n",
            "Requirement already satisfied: pickleshare in /usr/local/lib/python3.7/dist-packages (from ipython>=4.0.0->ipykernel->jupyter==1.0.0->d2l) (0.7.5)\n",
            "Requirement already satisfied: decorator in /usr/local/lib/python3.7/dist-packages (from ipython>=4.0.0->ipykernel->jupyter==1.0.0->d2l) (4.4.2)\n",
            "Requirement already satisfied: pygments in /usr/local/lib/python3.7/dist-packages (from ipython>=4.0.0->ipykernel->jupyter==1.0.0->d2l) (2.6.1)\n",
            "Requirement already satisfied: pexpect in /usr/local/lib/python3.7/dist-packages (from ipython>=4.0.0->ipykernel->jupyter==1.0.0->d2l) (4.8.0)\n",
            "Requirement already satisfied: simplegeneric>0.8 in /usr/local/lib/python3.7/dist-packages (from ipython>=4.0.0->ipykernel->jupyter==1.0.0->d2l) (0.8.1)\n",
            "Requirement already satisfied: prompt-toolkit<2.0.0,>=1.0.4 in /usr/local/lib/python3.7/dist-packages (from ipython>=4.0.0->ipykernel->jupyter==1.0.0->d2l) (1.0.18)\n",
            "Requirement already satisfied: wcwidth in /usr/local/lib/python3.7/dist-packages (from prompt-toolkit<2.0.0,>=1.0.4->ipython>=4.0.0->ipykernel->jupyter==1.0.0->d2l) (0.2.5)\n",
            "Requirement already satisfied: jupyterlab-widgets>=1.0.0 in /usr/local/lib/python3.7/dist-packages (from ipywidgets->jupyter==1.0.0->d2l) (1.0.2)\n",
            "Requirement already satisfied: nbformat>=4.2.0 in /usr/local/lib/python3.7/dist-packages (from ipywidgets->jupyter==1.0.0->d2l) (5.1.3)\n",
            "Requirement already satisfied: widgetsnbextension~=3.5.0 in /usr/local/lib/python3.7/dist-packages (from ipywidgets->jupyter==1.0.0->d2l) (3.5.2)\n",
            "Requirement already satisfied: ipython-genutils~=0.2.0 in /usr/local/lib/python3.7/dist-packages (from ipywidgets->jupyter==1.0.0->d2l) (0.2.0)\n",
            "Requirement already satisfied: jupyter-core in /usr/local/lib/python3.7/dist-packages (from nbformat>=4.2.0->ipywidgets->jupyter==1.0.0->d2l) (4.9.2)\n",
            "Requirement already satisfied: jsonschema!=2.5.0,>=2.4 in /usr/local/lib/python3.7/dist-packages (from nbformat>=4.2.0->ipywidgets->jupyter==1.0.0->d2l) (4.3.3)\n",
            "Requirement already satisfied: attrs>=17.4.0 in /usr/local/lib/python3.7/dist-packages (from jsonschema!=2.5.0,>=2.4->nbformat>=4.2.0->ipywidgets->jupyter==1.0.0->d2l) (21.4.0)\n",
            "Requirement already satisfied: typing-extensions in /usr/local/lib/python3.7/dist-packages (from jsonschema!=2.5.0,>=2.4->nbformat>=4.2.0->ipywidgets->jupyter==1.0.0->d2l) (3.10.0.2)\n",
            "Requirement already satisfied: importlib-resources>=1.4.0 in /usr/local/lib/python3.7/dist-packages (from jsonschema!=2.5.0,>=2.4->nbformat>=4.2.0->ipywidgets->jupyter==1.0.0->d2l) (5.4.0)\n",
            "Requirement already satisfied: pyrsistent!=0.17.0,!=0.17.1,!=0.17.2,>=0.14.0 in /usr/local/lib/python3.7/dist-packages (from jsonschema!=2.5.0,>=2.4->nbformat>=4.2.0->ipywidgets->jupyter==1.0.0->d2l) (0.18.1)\n",
            "Requirement already satisfied: importlib-metadata in /usr/local/lib/python3.7/dist-packages (from jsonschema!=2.5.0,>=2.4->nbformat>=4.2.0->ipywidgets->jupyter==1.0.0->d2l) (4.11.1)\n",
            "Requirement already satisfied: zipp>=3.1.0 in /usr/local/lib/python3.7/dist-packages (from importlib-resources>=1.4.0->jsonschema!=2.5.0,>=2.4->nbformat>=4.2.0->ipywidgets->jupyter==1.0.0->d2l) (3.7.0)\n",
            "Requirement already satisfied: Send2Trash in /usr/local/lib/python3.7/dist-packages (from notebook->jupyter==1.0.0->d2l) (1.8.0)\n",
            "Requirement already satisfied: jinja2 in /usr/local/lib/python3.7/dist-packages (from notebook->jupyter==1.0.0->d2l) (2.11.3)\n",
            "Requirement already satisfied: terminado>=0.8.1 in /usr/local/lib/python3.7/dist-packages (from notebook->jupyter==1.0.0->d2l) (0.13.1)\n",
            "Requirement already satisfied: pyzmq>=13 in /usr/local/lib/python3.7/dist-packages (from jupyter-client->ipykernel->jupyter==1.0.0->d2l) (22.3.0)\n",
            "Requirement already satisfied: ptyprocess in /usr/local/lib/python3.7/dist-packages (from terminado>=0.8.1->notebook->jupyter==1.0.0->d2l) (0.7.0)\n",
            "Requirement already satisfied: MarkupSafe>=0.23 in /usr/local/lib/python3.7/dist-packages (from jinja2->notebook->jupyter==1.0.0->d2l) (2.0.1)\n",
            "Requirement already satisfied: entrypoints>=0.2.2 in /usr/local/lib/python3.7/dist-packages (from nbconvert->jupyter==1.0.0->d2l) (0.4)\n",
            "Requirement already satisfied: mistune<2,>=0.8.1 in /usr/local/lib/python3.7/dist-packages (from nbconvert->jupyter==1.0.0->d2l) (0.8.4)\n",
            "Requirement already satisfied: pandocfilters>=1.4.1 in /usr/local/lib/python3.7/dist-packages (from nbconvert->jupyter==1.0.0->d2l) (1.5.0)\n",
            "Requirement already satisfied: testpath in /usr/local/lib/python3.7/dist-packages (from nbconvert->jupyter==1.0.0->d2l) (0.5.0)\n",
            "Requirement already satisfied: defusedxml in /usr/local/lib/python3.7/dist-packages (from nbconvert->jupyter==1.0.0->d2l) (0.7.1)\n",
            "Requirement already satisfied: bleach in /usr/local/lib/python3.7/dist-packages (from nbconvert->jupyter==1.0.0->d2l) (4.1.0)\n",
            "Requirement already satisfied: webencodings in /usr/local/lib/python3.7/dist-packages (from bleach->nbconvert->jupyter==1.0.0->d2l) (0.5.1)\n",
            "Requirement already satisfied: packaging in /usr/local/lib/python3.7/dist-packages (from bleach->nbconvert->jupyter==1.0.0->d2l) (21.3)\n",
            "Requirement already satisfied: qtpy in /usr/local/lib/python3.7/dist-packages (from qtconsole->jupyter==1.0.0->d2l) (2.0.1)\n",
            "Installing collected packages: numpy, requests, pandas, matplotlib, d2l\n",
            "  Attempting uninstall: numpy\n",
            "    Found existing installation: numpy 1.21.5\n",
            "    Uninstalling numpy-1.21.5:\n",
            "      Successfully uninstalled numpy-1.21.5\n",
            "  Attempting uninstall: requests\n",
            "    Found existing installation: requests 2.23.0\n",
            "    Uninstalling requests-2.23.0:\n",
            "      Successfully uninstalled requests-2.23.0\n",
            "  Attempting uninstall: pandas\n",
            "    Found existing installation: pandas 1.3.5\n",
            "    Uninstalling pandas-1.3.5:\n",
            "      Successfully uninstalled pandas-1.3.5\n",
            "  Attempting uninstall: matplotlib\n",
            "    Found existing installation: matplotlib 3.2.2\n",
            "    Uninstalling matplotlib-3.2.2:\n",
            "      Successfully uninstalled matplotlib-3.2.2\n",
            "\u001b[31mERROR: pip's dependency resolver does not currently take into account all the packages that are installed. This behaviour is the source of the following dependency conflicts.\n",
            "tensorflow 2.8.0 requires tf-estimator-nightly==2.8.0.dev2021122109, which is not installed.\n",
            "tensorflow 2.8.0 requires numpy>=1.20, but you have numpy 1.18.5 which is incompatible.\n",
            "tables 3.7.0 requires numpy>=1.19.0, but you have numpy 1.18.5 which is incompatible.\n",
            "google-colab 1.0.0 requires requests~=2.23.0, but you have requests 2.25.1 which is incompatible.\n",
            "datascience 0.10.6 requires folium==0.2.1, but you have folium 0.8.3 which is incompatible.\n",
            "albumentations 0.1.12 requires imgaug<0.2.7,>=0.2.5, but you have imgaug 0.2.9 which is incompatible.\u001b[0m\n",
            "Successfully installed d2l-0.17.3 matplotlib-3.3.3 numpy-1.18.5 pandas-1.2.2 requests-2.25.1\n"
          ]
        },
        {
          "output_type": "display_data",
          "data": {
            "application/vnd.colab-display-data+json": {
              "pip_warning": {
                "packages": [
                  "matplotlib",
                  "mpl_toolkits",
                  "numpy",
                  "pandas",
                  "requests"
                ]
              }
            }
          },
          "metadata": {}
        }
      ]
    },
    {
      "cell_type": "code",
      "source": [
        "n = 10000\n",
        "a = torch.ones(n)\n",
        "b = torch.ones(n)"
      ],
      "metadata": {
        "id": "6PaNkLp_3XIy"
      },
      "execution_count": 7,
      "outputs": []
    },
    {
      "cell_type": "code",
      "source": [
        "\n",
        "timer.start()\n",
        "d = a + b\n",
        "f'{timer.stop():.5f} sec'"
      ],
      "metadata": {
        "colab": {
          "base_uri": "https://localhost:8080/",
          "height": 35
        },
        "id": "JA4dWnlf36Rv",
        "outputId": "e276e405-a56f-403a-8c99-c11caac4d71c"
      },
      "execution_count": 8,
      "outputs": [
        {
          "output_type": "execute_result",
          "data": {
            "application/vnd.google.colaboratory.intrinsic+json": {
              "type": "string"
            },
            "text/plain": [
              "'0.01987 sec'"
            ]
          },
          "metadata": {},
          "execution_count": 8
        }
      ]
    },
    {
      "cell_type": "markdown",
      "source": [
        "**Example with TensorFlow**"
      ],
      "metadata": {
        "id": "fj3ONpyV3aN4"
      }
    },
    {
      "cell_type": "code",
      "source": [
        "import tensorflow as tf\n",
        "from d2l import tensorflow as d2l"
      ],
      "metadata": {
        "id": "1vOzjji-3a7Z"
      },
      "execution_count": 9,
      "outputs": []
    },
    {
      "cell_type": "code",
      "source": [
        "n = 10000\n",
        "a = tf.ones(n)\n",
        "b = tf.ones(n)"
      ],
      "metadata": {
        "id": "VzNnpe-U3a_w"
      },
      "execution_count": 10,
      "outputs": []
    },
    {
      "cell_type": "code",
      "source": [
        "timer.start()\n",
        "d = a + b\n",
        "f'{timer.stop():.5f} sec'"
      ],
      "metadata": {
        "colab": {
          "base_uri": "https://localhost:8080/",
          "height": 35
        },
        "id": "FoIgJ9QS4tWv",
        "outputId": "5f24ef01-3447-4e5a-c47d-1774f104a1b9"
      },
      "execution_count": 11,
      "outputs": [
        {
          "output_type": "execute_result",
          "data": {
            "application/vnd.google.colaboratory.intrinsic+json": {
              "type": "string"
            },
            "text/plain": [
              "'0.01311 sec'"
            ]
          },
          "metadata": {},
          "execution_count": 11
        }
      ]
    },
    {
      "cell_type": "markdown",
      "source": [
        "**Class Dataset**"
      ],
      "metadata": {
        "id": "HHE23OjT5LFG"
      }
    },
    {
      "cell_type": "code",
      "source": [
        "import numpy as np\n",
        "import matplotlib.pyplot as plt"
      ],
      "metadata": {
        "id": "xYPo1LgL5mwA"
      },
      "execution_count": 5,
      "outputs": []
    },
    {
      "cell_type": "markdown",
      "source": [
        "# Nova secção"
      ],
      "metadata": {
        "id": "KoFBQZvpjQFV"
      }
    },
    {
      "cell_type": "code",
      "source": [
        "class Dataset:\n",
        "  def __init__(self, filename = None, X = None, Y = None):\n",
        "    if filename is not None:\n",
        "      self.readDataset(filename)\n",
        "    elif X is not None and Y is not None:\n",
        "      self.X = X\n",
        "      self.Y = Y\n",
        "  \n",
        "  def readDataset(self, filename, sep = \",\"):\n",
        "    data = np.genfromtxt(filename, delimiter=sep)\n",
        "    self.X = data[:,0:-1]\n",
        "    self.Y = data[:,-1]\n",
        "  \n",
        "  def getXy (self):\n",
        "    return self.X, self.Y"
      ],
      "metadata": {
        "id": "5rMfd6t25qbR"
      },
      "execution_count": 6,
      "outputs": []
    },
    {
      "cell_type": "markdown",
      "source": [
        "**Testing the class and visualizing the dataset**"
      ],
      "metadata": {
        "id": "UvAkPTNq7G-O"
      }
    },
    {
      "cell_type": "code",
      "source": [
        "from google.colab import files"
      ],
      "metadata": {
        "id": "jFfisG7oj7F4"
      },
      "execution_count": 7,
      "outputs": []
    },
    {
      "cell_type": "code",
      "source": [
        "uploaded = files.upload()"
      ],
      "metadata": {
        "colab": {
          "resources": {
            "http://localhost:8080/nbextensions/google.colab/files.js": {
              "data": "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",
              "ok": true,
              "headers": [
                [
                  "content-type",
                  "application/javascript"
                ]
              ],
              "status": 200,
              "status_text": ""
            }
          },
          "base_uri": "https://localhost:8080/",
          "height": 108
        },
        "id": "aXmtKNTAj91i",
        "outputId": "ba54d708-91ff-4196-a430-d2de88805ccc"
      },
      "execution_count": 8,
      "outputs": [
        {
          "output_type": "display_data",
          "data": {
            "text/html": [
              "\n",
              "     <input type=\"file\" id=\"files-eff8866f-953d-4f90-9d67-38c37f384d48\" name=\"files[]\" multiple disabled\n",
              "        style=\"border:none\" />\n",
              "     <output id=\"result-eff8866f-953d-4f90-9d67-38c37f384d48\">\n",
              "      Upload widget is only available when the cell has been executed in the\n",
              "      current browser session. Please rerun this cell to enable.\n",
              "      </output>\n",
              "      <script src=\"/nbextensions/google.colab/files.js\"></script> "
            ],
            "text/plain": [
              "<IPython.core.display.HTML object>"
            ]
          },
          "metadata": {}
        },
        {
          "output_type": "stream",
          "name": "stdout",
          "text": [
            "Saving lr-example1.data to lr-example1 (1).data\n",
            "Saving lr-example2.data to lr-example2 (1).data\n"
          ]
        }
      ]
    },
    {
      "cell_type": "code",
      "source": [
        "#pip install matplotlib==3.1.3"
      ],
      "metadata": {
        "id": "CwRFHlQtl5uQ",
        "colab": {
          "base_uri": "https://localhost:8080/",
          "height": 416
        },
        "outputId": "4b4b78fa-c513-4362-df2a-6df39ec1eee7"
      },
      "execution_count": 16,
      "outputs": [
        {
          "output_type": "stream",
          "name": "stdout",
          "text": [
            "Collecting matplotlib==3.1.3\n",
            "  Downloading matplotlib-3.1.3-cp37-cp37m-manylinux1_x86_64.whl (13.1 MB)\n",
            "\u001b[K     |████████████████████████████████| 13.1 MB 4.2 MB/s \n",
            "\u001b[?25hRequirement already satisfied: numpy>=1.11 in /usr/local/lib/python3.7/dist-packages (from matplotlib==3.1.3) (1.18.5)\n",
            "Requirement already satisfied: pyparsing!=2.0.4,!=2.1.2,!=2.1.6,>=2.0.1 in /usr/local/lib/python3.7/dist-packages (from matplotlib==3.1.3) (3.0.7)\n",
            "Requirement already satisfied: python-dateutil>=2.1 in /usr/local/lib/python3.7/dist-packages (from matplotlib==3.1.3) (2.8.2)\n",
            "Requirement already satisfied: cycler>=0.10 in /usr/local/lib/python3.7/dist-packages (from matplotlib==3.1.3) (0.11.0)\n",
            "Requirement already satisfied: kiwisolver>=1.0.1 in /usr/local/lib/python3.7/dist-packages (from matplotlib==3.1.3) (1.3.2)\n",
            "Requirement already satisfied: six>=1.5 in /usr/local/lib/python3.7/dist-packages (from python-dateutil>=2.1->matplotlib==3.1.3) (1.15.0)\n",
            "Installing collected packages: matplotlib\n",
            "  Attempting uninstall: matplotlib\n",
            "    Found existing installation: matplotlib 3.3.3\n",
            "    Uninstalling matplotlib-3.3.3:\n",
            "      Successfully uninstalled matplotlib-3.3.3\n",
            "\u001b[31mERROR: pip's dependency resolver does not currently take into account all the packages that are installed. This behaviour is the source of the following dependency conflicts.\n",
            "d2l 0.17.3 requires matplotlib==3.3.3, but you have matplotlib 3.1.3 which is incompatible.\n",
            "albumentations 0.1.12 requires imgaug<0.2.7,>=0.2.5, but you have imgaug 0.2.9 which is incompatible.\u001b[0m\n",
            "Successfully installed matplotlib-3.1.3\n"
          ]
        },
        {
          "output_type": "display_data",
          "data": {
            "application/vnd.colab-display-data+json": {
              "pip_warning": {
                "packages": [
                  "matplotlib",
                  "mpl_toolkits"
                ]
              }
            }
          },
          "metadata": {}
        }
      ]
    },
    {
      "cell_type": "code",
      "source": [
        "def plotData_2vars(X, Y, xlabel, ylabel):\n",
        "    plt.plot(X, Y, 'rx', markersize=7)\n",
        "    plt.ylabel(ylabel)\n",
        "    plt.xlabel(xlabel)\n",
        "    plt.show()\n",
        "\n",
        "def test_dataset(ds_path):\n",
        "    d = Dataset(ds_path)\n",
        "    X,y = d.getXy()\n",
        "    print(f\"Shape Atributos: {X.shape}\")\n",
        "    print(f\"Shape Labels: {X.shape}\")\n",
        "    plotData_2vars(X,y,\"Population(X)\", \"Profit(y)\")\n",
        "\n",
        "test_dataset(\"lr-example1.data\")"
      ],
      "metadata": {
        "id": "poSt-tRg7IAX",
        "colab": {
          "base_uri": "https://localhost:8080/",
          "height": 315
        },
        "outputId": "ef0d4222-fe58-420d-b6d4-793795a61e70"
      },
      "execution_count": 9,
      "outputs": [
        {
          "output_type": "stream",
          "name": "stdout",
          "text": [
            "Shape Atributos: (97, 1)\n",
            "Shape Labels: (97, 1)\n"
          ]
        },
        {
          "output_type": "display_data",
          "data": {
            "image/png": "[encoded data removed]",
            "text/plain": [
              "<Figure size 432x288 with 1 Axes>"
            ]
          },
          "metadata": {
            "needs_background": "light"
          }
        }
      ]
    },
    {
      "cell_type": "markdown",
      "source": [
        "**Normalizing the Data**"
      ],
      "metadata": {
        "id": "j1ms9WxopTDS"
      }
    },
    {
      "cell_type": "code",
      "source": [
        "def standardize(X):\n",
        " Xmed = np.mean(X, axis = 0)\n",
        " Xsigma = np.std(X, axis = 0)\n",
        " return (X-Xmed)/Xsigma"
      ],
      "metadata": {
        "id": "kZOEWrwrpRyR"
      },
      "execution_count": 10,
      "outputs": []
    },
    {
      "cell_type": "code",
      "source": [
        "def normalize(X):\n",
        " Xmax = np.max(X, axis = 0)\n",
        " Xmin = np.min(X, axis = 0)\n",
        " return (X-Xmin)/(Xmax-Xmin)"
      ],
      "metadata": {
        "id": "WQtS1avIpkz2"
      },
      "execution_count": 11,
      "outputs": []
    },
    {
      "cell_type": "code",
      "source": [
        "def test_standardize():\n",
        " d = Dataset(\"lr-example1.data\")\n",
        " X,y = d.getXy()\n",
        " Xs= standardize(X)\n",
        " print(f\"Shape Atributos: {Xs.shape}\")\n",
        " plotData_2vars(Xs,y,\"Population(X)\", \"Profit(y)\")"
      ],
      "metadata": {
        "id": "FPqciXh2q1kp"
      },
      "execution_count": 12,
      "outputs": []
    },
    {
      "cell_type": "code",
      "source": [
        "def test_normalize():\n",
        " d = Dataset(\"lr-example1.data\")\n",
        " X,y = d.getXy()\n",
        " Xn= normalize(X)\n",
        " print(f\"Shape Atributos: {Xn.shape}\")\n",
        " plotData_2vars(Xn,y,\"Population(X)\", \"Profit(y)\")"
      ],
      "metadata": {
        "id": "lvEQs_Lwq1v3"
      },
      "execution_count": 13,
      "outputs": []
    },
    {
      "cell_type": "code",
      "source": [
        "test_standardize()\n"
      ],
      "metadata": {
        "colab": {
          "base_uri": "https://localhost:8080/",
          "height": 297
        },
        "id": "LeSHY8PHrHR9",
        "outputId": "220b72c5-f8bc-43b6-da75-fb1a969debba"
      },
      "execution_count": 14,
      "outputs": [
        {
          "output_type": "stream",
          "name": "stdout",
          "text": [
            "Shape Atributos: (97, 1)\n"
          ]
        },
        {
          "output_type": "display_data",
          "data": {
            "image/png": "[encoded data removed]",
            "text/plain": [
              "<Figure size 432x288 with 1 Axes>"
            ]
          },
          "metadata": {
            "needs_background": "light"
          }
        }
      ]
    },
    {
      "cell_type": "code",
      "source": [
        "test_normalize()"
      ],
      "metadata": {
        "colab": {
          "base_uri": "https://localhost:8080/",
          "height": 297
        },
        "id": "XeFxH8aArHa1",
        "outputId": "14099c51-ba31-4925-ec0c-78a6bd797737"
      },
      "execution_count": 15,
      "outputs": [
        {
          "output_type": "stream",
          "name": "stdout",
          "text": [
            "Shape Atributos: (97, 1)\n"
          ]
        },
        {
          "output_type": "display_data",
          "data": {
            "image/png": "[encoded data removed]",
            "text/plain": [
              "<Figure size 432x288 with 1 Axes>"
            ]
          },
          "metadata": {
            "needs_background": "light"
          }
        }
      ]
    },
    {
      "cell_type": "markdown",
      "source": [
        "**Testing With Several Attributes**"
      ],
      "metadata": {
        "id": "QAWMqo8WrrOu"
      }
    },
    {
      "cell_type": "code",
      "source": [
        "def test_dataset_multi(ds_path,coluna=0):\n",
        " d = Dataset(ds_path)\n",
        " X,y = d.getXy()\n",
        " print(f\"Shape Atributos: {X.shape}\")\n",
        " print(f\"Shape Labels: {X.shape}\")\n",
        " plotData_2vars(X[:,coluna],y,f\"Atributo:{coluna}\", \"Profit(y)\")\n",
        "\n",
        "\n",
        "test_dataset_multi(\"lr-example2.data\",0)\n",
        "test_dataset_multi(\"lr-example2.data\",1) "
      ],
      "metadata": {
        "colab": {
          "base_uri": "https://localhost:8080/",
          "height": 611
        },
        "id": "vehAKZ5crtv8",
        "outputId": "b44fcebf-fbad-4b60-8e8f-765ecd75f41e"
      },
      "execution_count": 16,
      "outputs": [
        {
          "output_type": "stream",
          "name": "stdout",
          "text": [
            "Shape Atributos: (47, 2)\n",
            "Shape Labels: (47, 2)\n"
          ]
        },
        {
          "output_type": "display_data",
          "data": {
            "image/png": "[encoded data removed]",
            "text/plain": [
              "<Figure size 432x288 with 1 Axes>"
            ]
          },
          "metadata": {
            "needs_background": "light"
          }
        },
        {
          "output_type": "stream",
          "name": "stdout",
          "text": [
            "Shape Atributos: (47, 2)\n",
            "Shape Labels: (47, 2)\n"
          ]
        },
        {
          "output_type": "display_data",
          "data": {
            "image/png": "[encoded data removed]",
            "text/plain": [
              "<Figure size 432x288 with 1 Axes>"
            ]
          },
          "metadata": {
            "needs_background": "light"
          }
        }
      ]
    },
    {
      "cell_type": "code",
      "source": [
        "def test_standardize():\n",
        " print(f\"############# Atributos Standardizados ##################\")\n",
        " d = Dataset(\"lr-example2.data\")\n",
        " X,y = d.getXy()\n",
        " Xs= standardize(X)\n",
        " print(f\"Shape Atributos: {Xs.shape}\")\n",
        " plotData_2vars(Xs[:,0],y,\"Atributo: 0\", \"Profit(y)\")\n",
        " plotData_2vars(Xs[:,1],y,\"Atributo: 1\", \"Profit(y)\")\n",
        " \n",
        "test_standardize()"
      ],
      "metadata": {
        "colab": {
          "base_uri": "https://localhost:8080/",
          "height": 279
        },
        "id": "xQdySr5xvNWu",
        "outputId": "bc20a113-bae8-4d21-9d84-f52eeb464f20"
      },
      "execution_count": 17,
      "outputs": [
        {
          "output_type": "display_data",
          "data": {
            "image/png": "[encoded data removed]",
            "text/plain": [
              "<Figure size 432x288 with 1 Axes>"
            ]
          },
          "metadata": {
            "needs_background": "light"
          }
        }
      ]
    },
    {
      "cell_type": "code",
      "source": [
        "def test_normalize():\n",
        " print(f\"############# Atributos Normalizados ##################\")\n",
        " d = Dataset(\"lr-example2.data\")\n",
        " X,y = d.getXy()\n",
        " Xn= normalize(X)\n",
        " print(f\"Shape Atributos: {Xn.shape}\")\n",
        " plotData_2vars(Xn[:,0],y,\"Atributo: 0\", \"Profit(y)\")\n",
        " plotData_2vars(Xn[:,1],y,\"Atributo: 1\", \"Profit(y)\")\n",
        " \n",
        "test_normalize()"
      ],
      "metadata": {
        "colab": {
          "base_uri": "https://localhost:8080/",
          "height": 576
        },
        "id": "302cZYA1vTMW",
        "outputId": "22c9ce0d-a41b-481e-b687-97f778b2d8fb"
      },
      "execution_count": 18,
      "outputs": [
        {
          "output_type": "stream",
          "name": "stdout",
          "text": [
            "############# Atributos Normalizados ##################\n",
            "Shape Atributos: (47, 2)\n"
          ]
        },
        {
          "output_type": "display_data",
          "data": {
            "image/png": "[encoded data removed]",
            "text/plain": [
              "<Figure size 432x288 with 1 Axes>"
            ]
          },
          "metadata": {
            "needs_background": "light"
          }
        },
        {
          "output_type": "display_data",
          "data": {
            "image/png": "[encoded data removed]",
            "text/plain": [
              "<Figure size 432x288 with 1 Axes>"
            ]
          },
          "metadata": {
            "needs_background": "light"
          }
        }
      ]
    },
    {
      "cell_type": "markdown",
      "source": [
        "**Class LinearRegression**"
      ],
      "metadata": {
        "id": "SgwEdwcQpO5-"
      }
    },
    {
      "cell_type": "code",
      "source": [
        "def error_sqe(predictions,y):\n",
        "  m = predictions.shape[0]\n",
        "  #predictions = np.dot(self.X, self.theta)\n",
        "  sqe = (predictions - y) ** 2\n",
        "  res = np.sum(sqe) / (2*m)\n",
        "  return res"
      ],
      "metadata": {
        "id": "lrOfGnezpQzm"
      },
      "execution_count": 19,
      "outputs": []
    },
    {
      "cell_type": "code",
      "source": [
        "class LinearRegression:\n",
        "\n",
        "  def __init__(self, dataset, standardization = False, regularization = False, lamda = 1): \n",
        "    self.X, self.y = dataset.getXy()\n",
        "    self.standardization = standardization\n",
        "    self.regularization = regularization\n",
        "    self.lamda = lamda\n",
        "    self.X = np.hstack ((np.ones([self.X.shape[0],1]), self.X ))\n",
        "    self.theta = np.zeros(self.X.shape[1])\n",
        "    if self.standardization:\n",
        "      self.X[:,1:] = standardize(self.X[:,1:])\n",
        "\n",
        "\n",
        "  def buildModel(self):\n",
        "    from numpy.linalg import inv\n",
        "    if self.regularization:\n",
        "      self.theta = self.analyticalWithReg()\n",
        "    else:\n",
        "      self.theta = inv(self.X.T.dot(self.X)).dot(self.X.T).dot(self.y)\n",
        "\n",
        "  def analyticalWithReg(self):\n",
        "    from numpy.linalg import inv\n",
        "    matl = np.zeros([self.X.shape[1], self.X.shape[1]])\n",
        "    for i in range(1,self.X.shape[1]):\n",
        "      matl[i,i] = self.lamda\n",
        "    theta = inv(self.X.T.dot(self.X) + matl).dot(self.X.T).dot(self.y)\n",
        "    return theta\n",
        "\n",
        "\n",
        "\n",
        "  def predictions (self): #previsões dos casos de teste\n",
        "    return np.dot(self.X, self.theta)\n",
        "\n",
        "\n",
        "  def predict(self, instance):\n",
        "    x = np.empty([self.X.shape[1]])\n",
        "    x[0] = 1 #na 1ª posição coloca um 1\n",
        "    x[1:] = np.array(instance[:self.X.shape[1]-1])\n",
        "    print(instance)\n",
        "    print(x)\n",
        "    if self.standardization:\n",
        "      #x[1:] = (x[1:] - self.mu) / self.sigma\n",
        "      x[1:] = standardize(x[1:])\n",
        "    return np.dot(self.theta, x)\n",
        "\n",
        "\n",
        "  def costFunction(self):\n",
        "    J = error_sqe(self.predictions(),self.y)\n",
        "    return J\n",
        "\n",
        "\n",
        "  def getXy (self):\n",
        "    return self.X[:,1], self.y\n",
        "\n",
        "  def getX (self):\n",
        "    return self.X\n",
        "\n",
        "  def get_theta (self):\n",
        "    return self.theta\n",
        "\n",
        "  def gradientDescent (self, iterations = 1000, alpha = 0.001):\n",
        "    m = self.X.shape[0]\n",
        "    n = self.X.shape[1]\n",
        "    self.theta = np.zeros(n)\n",
        "    if self.regularization:\n",
        "      lamdas = np.zeros([self.X.shape[1]])\n",
        "      for i in range(1,self.X.shape[1]):\n",
        "        lamdas[i] = self.lamda\n",
        "    for its in range(iterations):\n",
        "      #predictions = np.dot(self.X, self.theta)\n",
        "      J = error_sqe(self.predictions(),self.y)\n",
        "      if its%100 == 0: print(J)\n",
        "      delta = self.X.T.dot(self.X.dot(self.theta) - self.y)\n",
        "      if self.regularization:\n",
        "        self.theta -= (alpha/m * (lamdas+delta))\n",
        "    else: self.theta -= (alpha/m * delta )"
      ],
      "metadata": {
        "id": "R7x9HE9drPlz"
      },
      "execution_count": 24,
      "outputs": []
    },
    {
      "cell_type": "code",
      "source": [
        "def test_2var_1(regul = False):\n",
        " ds= Dataset(\"lr-example1.data\")\n",
        " if regul:\n",
        "  lrmodel = LinearRegression(ds, True, True, 100.0)\n",
        " else:\n",
        "  lrmodel = LinearRegression(ds)\n",
        " X,y = lrmodel.getXy()\n",
        " plotData_2vars(X,y,\"Population(X)\", \"Profit(y)\")\n",
        " print(\"Cost function value for theta with zeros:\")\n",
        " print(lrmodel.costFunction())\n",
        "\n",
        " \n",
        "test_2var_1(False)\n",
        "test_2var_1(True)"
      ],
      "metadata": {
        "colab": {
          "base_uri": "https://localhost:8080/",
          "height": 613
        },
        "id": "G3LujHP0yafX",
        "outputId": "d29e6023-7dab-4b96-92c3-0856ba1f0099"
      },
      "execution_count": 25,
      "outputs": [
        {
          "output_type": "display_data",
          "data": {
            "image/png": "[encoded data removed]",
            "text/plain": [
              "<Figure size 432x288 with 1 Axes>"
            ]
          },
          "metadata": {
            "needs_background": "light"
          }
        },
        {
          "output_type": "stream",
          "name": "stdout",
          "text": [
            "Cost function value for theta with zeros:\n",
            "32.072733877455676\n"
          ]
        },
        {
          "output_type": "display_data",
          "data": {
            "image/png": "[encoded data removed]",
            "text/plain": [
              "<Figure size 432x288 with 1 Axes>"
            ]
          },
          "metadata": {
            "needs_background": "light"
          }
        },
        {
          "output_type": "stream",
          "name": "stdout",
          "text": [
            "Cost function value for theta with zeros:\n",
            "32.072733877455676\n"
          ]
        }
      ]
    },
    {
      "cell_type": "code",
      "source": [
        "def plotDataAndModel(X, Y, pred, xlabel, ylabel):\n",
        "    plt.plot(X, Y, 'rx', markersize=7)\n",
        "    plt.ylabel(ylabel)\n",
        "    plt.xlabel(xlabel)\n",
        "    plt.plot(X, pred, color='b')\n",
        "    plt.show()\n"
      ],
      "metadata": {
        "id": "AqmD96sf2Isn"
      },
      "execution_count": 35,
      "outputs": []
    },
    {
      "cell_type": "code",
      "source": [
        "def test_2var_3(regul = False):\n",
        "    ds= Dataset(\"lr-example1.data\")\n",
        "    if regul:\n",
        "        lrmodel = LinearRegression(ds, True, True, 100.0)\n",
        "    else:\n",
        "        lrmodel = LinearRegression(ds)\n",
        "    print(f\"Model with analytical solution. Regularização = {regul}\")\n",
        "    lrmodel.buildModel()\n",
        "    print(f\"Cost function value for theta from analytical solution. Regularização = {regul}\")\n",
        "    print(lrmodel.costFunction())\n",
        "    X,y = lrmodel.getXy()\n",
        "    print(f\"Casos. Regularização = {regul}\")\n",
        "    print(f\"Shape: {X.shape}\")\n",
        "    print(X)\n",
        "    print(f\"Labels. Regularização = {regul}\")\n",
        "    print(f\"Shape: {y.shape}\")\n",
        "    print(y)\n",
        "    print(f\"Coeficientes da solução analitica. Regularização = {regul}\")\n",
        "    theta = lrmodel.get_theta ()\n",
        "    print(f\"Shape: {theta.shape}\")\n",
        "    print(theta)\n",
        "    print(f\"Previsão para os casos de Treino usando o modelo. Regularização = {regul}\")\n",
        "    pred = lrmodel.predictions()\n",
        "    print(pred.shape)\n",
        "    print(pred)\n",
        "    plotDataAndModel(X,y,pred, \"Population\", \"Profit\")\n",
        "\n",
        "test_2var_3(False)\n",
        "test_2var_3(True)"
      ],
      "metadata": {
        "colab": {
          "base_uri": "https://localhost:8080/",
          "height": 1000
        },
        "id": "RcrYcEi7zVah",
        "outputId": "038910d7-f3b7-4a7a-b865-da8506f73ebb"
      },
      "execution_count": 36,
      "outputs": [
        {
          "output_type": "stream",
          "name": "stdout",
          "text": [
            "Model with analytical solution. Regularização = False\n",
            "Cost function value for theta from analytical solution. Regularização = False\n",
            "4.476971375975179\n",
            "Casos. Regularização = False\n",
            "Shape: (97,)\n",
            "[ 6.1101  5.5277  8.5186  7.0032  5.8598  8.3829  7.4764  8.5781  6.4862\n",
            "  5.0546  5.7107 14.164   5.734   8.4084  5.6407  5.3794  6.3654  5.1301\n",
            "  6.4296  7.0708  6.1891 20.27    5.4901  6.3261  5.5649 18.945  12.828\n",
            " 10.957  13.176  22.203   5.2524  6.5894  9.2482  5.8918  8.2111  7.9334\n",
            "  8.0959  5.6063 12.836   6.3534  5.4069  6.8825 11.708   5.7737  7.8247\n",
            "  7.0931  5.0702  5.8014 11.7     5.5416  7.5402  5.3077  7.4239  7.6031\n",
            "  6.3328  6.3589  6.2742  5.6397  9.3102  9.4536  8.8254  5.1793 21.279\n",
            " 14.908  18.959   7.2182  8.2951 10.236   5.4994 20.341  10.136   7.3345\n",
            "  6.0062  7.2259  5.0269  6.5479  7.5386  5.0365 10.274   5.1077  5.7292\n",
            "  5.1884  6.3557  9.7687  6.5159  8.5172  9.1802  6.002   5.5204  5.0594\n",
            "  5.7077  7.6366  5.8707  5.3054  8.2934 13.394   5.4369]\n",
            "Labels. Regularização = False\n",
            "Shape: (97,)\n",
            "[17.592    9.1302  13.662   11.854    6.8233  11.886    4.3483  12.\n",
            "  6.5987   3.8166   3.2522  15.505    3.1551   7.2258   0.71618  3.5129\n",
            "  5.3048   0.56077  3.6518   5.3893   3.1386  21.767    4.263    5.1875\n",
            "  3.0825  22.638   13.501    7.0467  14.692   24.147   -1.22     5.9966\n",
            " 12.134    1.8495   6.5426   4.5623   4.1164   3.3928  10.117    5.4974\n",
            "  0.55657  3.9115   5.3854   2.4406   6.7318   1.0463   5.1337   1.844\n",
            "  8.0043   1.0179   6.7504   1.8396   4.2885   4.9981   1.4233  -1.4211\n",
            "  2.4756   4.6042   3.9624   5.4141   5.1694  -0.74279 17.929   12.054\n",
            " 17.054    4.8852   5.7442   7.7754   1.0173  20.992    6.6799   4.0259\n",
            "  1.2784   3.3411  -2.6807   0.29678  3.8845   5.7014   6.7526   2.0576\n",
            "  0.47953  0.20421  0.67861  7.5435   5.3436   4.2415   6.7981   0.92695\n",
            "  0.152    2.8214   1.8451   4.2959   7.2029   1.9869   0.14454  9.0551\n",
            "  0.61705]\n",
            "Coeficientes da solução analitica. Regularização = False\n",
            "Shape: (2,)\n",
            "[-3.89578088  1.19303364]\n",
            "Previsão para os casos de Treino usando o modelo. Regularização = False\n",
            "(97,)\n",
            "[ 3.39377399  2.6989512   6.26719552  4.45927234  3.09515767  6.10530086\n",
            "  5.02381586  6.33818102  3.84247394  2.13452698  2.91727635 13.00234766\n",
            "  2.94507404  6.13572322  2.833764    2.52202431  3.69835548  2.22460102\n",
            "  3.77494824  4.53992141  3.48802365 20.28701109  2.65409313  3.65146926\n",
            "  2.74333205 18.70624151 11.40845471  9.17628876 11.82363042 22.59314512\n",
            "  2.37050903  3.96559502  7.13763287  3.13333475  5.90033768  5.56903223\n",
            "  5.7629002   2.79272364 11.41799898  3.68403908  2.55483273  4.31527318\n",
            " 10.07225703  2.99243747  5.43934948  4.56652606  2.1531383   3.02548451\n",
            " 10.06271276  2.71553436  5.09993141  2.43648379  4.96118159  5.17497322\n",
            "  3.65946258  3.69060076  3.58955081  2.83257096  7.21160096  7.38268198\n",
            "  6.63321825  2.28329828 21.49078204 13.88996469 18.72294398  4.71577457\n",
            "  6.0005525   8.3161115   2.66518834 20.37171648  8.19680814  4.85452438\n",
            "  3.2698178   4.72496093  2.10147995  3.91608412  5.09802255  2.11293307\n",
            "  8.36144678  2.19787707  2.93934748  2.29415488  3.68678305  7.75860688\n",
            "  3.87790704  6.26552528  7.05650658  3.26480705  2.69024205  2.14025354\n",
            "  2.91369725  5.21493985  3.10816174  2.43373982  5.99852435 12.08371175\n",
            "  2.59062374]\n"
          ]
        },
        {
          "output_type": "display_data",
          "data": {
            "image/png": "[encoded data removed]",
            "text/plain": [
              "<Figure size 432x288 with 1 Axes>"
            ]
          },
          "metadata": {
            "needs_background": "light"
          }
        },
        {
          "output_type": "stream",
          "name": "stdout",
          "text": [
            "Model with analytical solution. Regularização = True\n",
            "Cost function value for theta from analytical solution. Regularização = True\n",
            "7.194901089799715\n",
            "Casos. Regularização = True\n",
            "Shape: (97,)\n",
            "[-0.53240565 -0.68368294  0.09319761 -0.30042464 -0.5974206   0.0579498\n",
            " -0.17751184  0.10865262 -0.4347144  -0.80656976 -0.63614904  1.55957946\n",
            " -0.63009691  0.06457337 -0.6543314  -0.72220358 -0.46609197 -0.78695878\n",
            " -0.44941614 -0.28286567 -0.51188555  3.14560127 -0.69344947 -0.47630007\n",
            " -0.67402031  2.80143506  1.21255602  0.72656735  1.30294835  3.64769432\n",
            " -0.75519159 -0.40790839  0.28270982 -0.58910866  0.01332508 -0.05880697\n",
            " -0.0165979  -0.66326674  1.214634   -0.46920894 -0.71506051 -0.33177623\n",
            "  0.92163816 -0.61978491 -0.08704158 -0.27707328 -0.80251769 -0.61258989\n",
            "  0.91956017 -0.68007244 -0.16093991 -0.74082752 -0.19114862 -0.14460176\n",
            " -0.47455975 -0.46778033 -0.48978099 -0.65459115  0.2988142   0.33606207\n",
            "  0.17288833 -0.77417917  3.40768709  1.75283204  2.80507153 -0.2445788\n",
            "  0.03514392  0.53928898 -0.69103381  3.16404339  0.51331417 -0.2143701\n",
            " -0.55939348 -0.24257874 -0.81376478 -0.41868794 -0.16135551 -0.8112712\n",
            "  0.5491594  -0.79277713 -0.6313437  -0.77181546 -0.46861152  0.4179087\n",
            " -0.42699988  0.09283397  0.26504695 -0.56048442 -0.6855791  -0.80532297\n",
            " -0.63692828 -0.1359002  -0.59458934 -0.74142494  0.03470234  1.35957343\n",
            " -0.70726806]\n",
            "Labels. Regularização = True\n",
            "Shape: (97,)\n",
            "[17.592    9.1302  13.662   11.854    6.8233  11.886    4.3483  12.\n",
            "  6.5987   3.8166   3.2522  15.505    3.1551   7.2258   0.71618  3.5129\n",
            "  5.3048   0.56077  3.6518   5.3893   3.1386  21.767    4.263    5.1875\n",
            "  3.0825  22.638   13.501    7.0467  14.692   24.147   -1.22     5.9966\n",
            " 12.134    1.8495   6.5426   4.5623   4.1164   3.3928  10.117    5.4974\n",
            "  0.55657  3.9115   5.3854   2.4406   6.7318   1.0463   5.1337   1.844\n",
            "  8.0043   1.0179   6.7504   1.8396   4.2885   4.9981   1.4233  -1.4211\n",
            "  2.4756   4.6042   3.9624   5.4141   5.1694  -0.74279 17.929   12.054\n",
            " 17.054    4.8852   5.7442   7.7754   1.0173  20.992    6.6799   4.0259\n",
            "  1.2784   3.3411  -2.6807   0.29678  3.8845   5.7014   6.7526   2.0576\n",
            "  0.47953  0.20421  0.67861  7.5435   5.3436   4.2415   6.7981   0.92695\n",
            "  0.152    2.8214   1.8451   4.2959   7.2029   1.9869   0.14454  9.0551\n",
            "  0.61705]\n",
            "Coeficientes da solução analitica. Regularização = True\n",
            "Shape: (2,)\n",
            "[5.83913505 2.26154817]\n",
            "Previsão para os casos de Treino usando o modelo. Regularização = True\n",
            "(97,)\n",
            "[ 4.63507402  4.29295315  6.04990594  5.15971026  4.48803959  5.97019131\n",
            "  5.43768347  6.0848582   4.8560075   4.01503869  4.40045336  9.36619913\n",
            "  4.41414054  5.98517085  4.35933306  4.20583687  4.78504562  4.05938987\n",
            "  4.8227588   5.19942072  4.68148121 12.95306386  4.27086568  4.76195951\n",
            "  4.31480565 12.17471539  8.58138889  7.48230211  8.78581551 14.08857148\n",
            "  4.1312329   4.91663057  6.47849692  4.50683744  5.86927035  5.70614026\n",
            "  5.8015981   4.33912537  8.58608836  4.77799642  4.22199127  5.08880712\n",
            "  7.92346415  4.43746162  5.64228632  5.21252047  4.02420264  4.45373351\n",
            "  7.91876468  4.30111847  5.47516168  4.16371794  5.40684325  5.51211121\n",
            "  4.76589531  4.7812273   4.73147175  4.35874563  6.51491776  6.59915562\n",
            "  6.23013033  4.08829156 13.54578357  9.80324914 12.18293945  5.28600832\n",
            "  5.91861471  7.05876305  4.2763288  12.99477159  7.00001977  5.35432675\n",
            "  4.57403975  5.29053155  3.9987668   4.89225211  5.47422179  4.00440616\n",
            "  7.0810855   4.04623137  4.41132086  4.0936372   4.77934752  6.7842557\n",
            "  4.87345426  6.04908354  6.43855149  4.57157254  4.28866489  4.01785837\n",
            "  4.39869106  5.53179021  4.49444261  4.16236684  5.91761607  8.91387586\n",
            "  4.23961425]\n"
          ]
        },
        {
          "output_type": "display_data",
          "data": {
            "image/png": "[encoded data removed]",
            "text/plain": [
              "<Figure size 432x288 with 1 Axes>"
            ]
          },
          "metadata": {
            "needs_background": "light"
          }
        }
      ]
    }
  ]
}