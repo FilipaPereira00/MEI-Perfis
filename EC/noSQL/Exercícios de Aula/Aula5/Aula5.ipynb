{
 "cells": [
  {
   "cell_type": "code",
   "execution_count": null,
   "id": "90f9cdd7",
   "metadata": {},
   "outputs": [],
   "source": [
    "import requests\n",
    "import threading, time\n",
    "import json\n",
    "from pymongo import MongoClient\n",
    "import bson.json_util"
   ]
  },
  {
   "cell_type": "code",
   "execution_count": null,
   "id": "71be654d",
   "metadata": {},
   "outputs": [],
   "source": [
    "def do_something():\n",
    "    while True:\n",
    "        r = []\n",
    "        r.append(requests.get('http://nosql.hpeixoto.me/api/sensor/3001').json())\n",
    "        r.append(requests.get('http://nosql.hpeixoto.me/api/sensor/3002').json())\n",
    "        r.append(requests.get('http://nosql.hpeixoto.me/api/sensor/3003').json())\n",
    "        r.append(requests.get('http://nosql.hpeixoto.me/api/sensor/3004').json())\n",
    "        r.append(requests.get('http://nosql.hpeixoto.me/api/sensor/3005').json())\n",
    "\n",
    "\n",
    "        #Provide the mongodb atlas url to connect python to mongodb using pymongo\n",
    "        CONNECTION_STRING = \"mongodb://localhost:27017\"\n",
    "\n",
    "        client = MongoClient(CONNECTION_STRING)\n",
    "        db  = client['Sensors']\n",
    "        collection=db['SensorCollection']\n",
    "\n",
    "        for d in r:\n",
    "            rec = collection.insert_one(d)\n",
    "        time.sleep(120)\n",
    "  "
   ]
  },
  {
   "cell_type": "code",
   "execution_count": null,
   "id": "0a5ee18f",
   "metadata": {},
   "outputs": [],
   "source": [
    "do_something()"
   ]
  }
 ],
 "metadata": {
  "kernelspec": {
   "display_name": "Python 3 (ipykernel)",
   "language": "python",
   "name": "python3"
  },
  "language_info": {
   "codemirror_mode": {
    "name": "ipython",
    "version": 3
   },
   "file_extension": ".py",
   "mimetype": "text/x-python",
   "name": "python",
   "nbconvert_exporter": "python",
   "pygments_lexer": "ipython3",
   "version": "3.9.7"
  }
 },
 "nbformat": 4,
 "nbformat_minor": 5
}
